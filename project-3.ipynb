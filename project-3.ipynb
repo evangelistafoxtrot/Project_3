version https://git-lfs.github.com/spec/v1
oid sha256:3bf0252f1717a31fa72553363f7a09ad579bd6f801fd8f37c5ad119ff1e6007d
size 966236
